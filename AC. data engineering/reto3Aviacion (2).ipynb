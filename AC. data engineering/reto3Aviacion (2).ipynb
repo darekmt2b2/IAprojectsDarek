{
 "cells": [
  {
   "cell_type": "code",
   "execution_count": 3,
   "id": "b6488ca3-603e-4efd-ae98-5d610ed91681",
   "metadata": {},
   "outputs": [
    {
     "name": "stdout",
     "output_type": "stream",
     "text": [
      "        date             type registration       operator fatalities  \\\n",
      "0  date unk.   Antonov An-12B       T-1206  Indonesian AF        NaN   \n",
      "1  date unk.   Antonov An-12B       T-1204  Indonesian AF        NaN   \n",
      "2  date unk.   Antonov An-12B       T-1201  Indonesian AF        NaN   \n",
      "3  date unk.  Antonov An-12BK          NaN      Soviet AF        NaN   \n",
      "4  date unk.  Antonov An-12BP   CCCP-11815      Soviet AF          0   \n",
      "\n",
      "              location          country cat     year  \n",
      "0                  NaN  Unknown country  U1  unknown  \n",
      "1                  NaN  Unknown country  U1  unknown  \n",
      "2                  NaN  Unknown country  U1  unknown  \n",
      "3  Tiksi Airport (IKS)           Russia  A1  unknown  \n",
      "4  Massawa Airport ...          Eritrea  A1  unknown  \n"
     ]
    }
   ],
   "source": [
    "import pandas as pd\n",
    "#loads the dataset\n",
    "dataset = pd.read_csv('aviation-accident.csv')\n",
    "print(dataset.head())\n"
   ]
  },
  {
   "cell_type": "code",
   "execution_count": 4,
   "id": "a2785e49-f63f-4543-b654-4fc4dbb08e59",
   "metadata": {},
   "outputs": [
    {
     "name": "stdout",
     "output_type": "stream",
     "text": [
      "Index(['date', 'type', 'registration', 'operator', 'fatalities', 'location',\n",
      "       'country', 'cat', 'year'],\n",
      "      dtype='object')\n",
      "Empty DataFrame\n",
      "Columns: []\n",
      "Index: [0, 1, 2, 3, 4]\n"
     ]
    }
   ],
   "source": [
    "# attribute selection\n",
    "\n",
    "print(dataset.columns)\n",
    "\n",
    "# numeric columns selection for analysis\n",
    "numericCLs = dataset.select_dtypes(include='number')\n",
    "print(numericCLs.head())\n"
   ]
  },
  {
   "cell_type": "code",
   "execution_count": 11,
   "id": "49bcb5d1-6d88-4d12-8923-5984a3e09068",
   "metadata": {},
   "outputs": [
    {
     "name": "stdout",
     "output_type": "stream",
     "text": [
      "ATTRIBUTES WITH EMPTY LOGS:\n",
      "date               0\n",
      "type               0\n",
      "registration    1552\n",
      "operator           4\n",
      "fatalities      3982\n",
      "location         958\n",
      "country            0\n",
      "cat                0\n",
      "year               0\n",
      "dtype: int64\n",
      "EMPTY LOGS:\n",
      "date            0\n",
      "type            0\n",
      "registration    0\n",
      "operator        0\n",
      "fatalities      0\n",
      "location        0\n",
      "country         0\n",
      "cat             0\n",
      "year            0\n",
      "dtype: int64\n",
      "REMAINING LOGS:\n",
      "(18543, 9)\n"
     ]
    }
   ],
   "source": [
    "# attribute transformation: empty logs disposal\n",
    "print(\"ATTRIBUTES WITH EMPTY LOGS:\")\n",
    "print(dataset.isnull().sum())\n",
    "\n",
    "#deletes logs with any empty fields to avoid dataset corruption\n",
    "df = dataset.dropna()\n",
    "\n",
    "# final check\n",
    "print(\"EMPTY LOGS:\")\n",
    "print(df.isnull().sum())\n",
    "print(\"REMAINING LOGS:\")\n",
    "print(df.shape)\n"
   ]
  },
  {
   "cell_type": "code",
   "execution_count": 15,
   "id": "66a7e62d-d200-4be6-a9d0-53da0849fea7",
   "metadata": {},
   "outputs": [
    {
     "name": "stdout",
     "output_type": "stream",
     "text": [
      "        date             type registration  \\\n",
      "0  date unk.   Antonov An-12B       T-1206   \n",
      "1  date unk.   Antonov An-12B       T-1204   \n",
      "2  date unk.   Antonov An-12B       T-1201   \n",
      "3  date unk.  Antonov An-12BK          NaN   \n",
      "4  date unk.  Antonov An-12BP   CCCP-11815   \n",
      "5  date unk.  Antonov An-12BP   CCCP-12172   \n",
      "6  date unk.     Antonov An-2    CCCP-N574   \n",
      "7  date unk.     Antonov An-2   CCCP-01216   \n",
      "8  date unk.   Antonov An-24B     RA-47794   \n",
      "9  date unk.    Antonov An-26       01 red   \n",
      "\n",
      "                               operator  fatalities             location  \\\n",
      "0                         Indonesian AF         NaN                  NaN   \n",
      "1                         Indonesian AF         NaN                  NaN   \n",
      "2                         Indonesian AF         NaN                  NaN   \n",
      "3                             Soviet AF         NaN  Tiksi Airport (IKS)   \n",
      "4                             Soviet AF         0.0  Massawa Airport ...   \n",
      "5                             Soviet AF         NaN                  NaN   \n",
      "6  GUSMP, Directorate of Polar Aviation         NaN              unknown   \n",
      "7                              Aeroflot         0.0         Chita region   \n",
      "8                            Russian AF         0.0                  NaN   \n",
      "9                             Soviet AF         0.0    Orenburg Air Base   \n",
      "\n",
      "           country cat     year Severity  \n",
      "0  Unknown country  U1  unknown     None  \n",
      "1  Unknown country  U1  unknown     None  \n",
      "2  Unknown country  U1  unknown     None  \n",
      "3           Russia  A1  unknown     None  \n",
      "4          Eritrea  A1  unknown     None  \n",
      "5           Russia  U1  unknown     None  \n",
      "6           Russia  A1  unknown     None  \n",
      "7           Russia  A2  unknown     None  \n",
      "8           Russia  A1  unknown     None  \n",
      "9           Russia  O1  unknown     None  \n"
     ]
    }
   ],
   "source": [
    "# New attribute creation: accident severity\n",
    "\n",
    "# sive realized the fatalities column contains some string values, I need to discard them\n",
    "dataset['fatalities'] = pd.to_numeric(dataset['fatalities'], errors='coerce')\n",
    "\n",
    "dataset['Severity'] = dataset['fatalities'].apply(\n",
    "    lambda x: 'Severe' if x > 10 else 'Moderate' if x > 0 else 'None'\n",
    ")\n",
    "#visualize the columns to check if the new column has indeed been created\n",
    "print(dataset.head(10))"
   ]
  },
  {
   "cell_type": "code",
   "execution_count": null,
   "id": "aa3483a2-ede3-42c4-9096-f9bc82c37e5d",
   "metadata": {},
   "outputs": [],
   "source": []
  }
 ],
 "metadata": {
  "kernelspec": {
   "display_name": "conda_python3",
   "language": "python",
   "name": "conda_python3"
  },
  "language_info": {
   "codemirror_mode": {
    "name": "ipython",
    "version": 3
   },
   "file_extension": ".py",
   "mimetype": "text/x-python",
   "name": "python",
   "nbconvert_exporter": "python",
   "pygments_lexer": "ipython3",
   "version": "3.10.16"
  }
 },
 "nbformat": 4,
 "nbformat_minor": 5
}
